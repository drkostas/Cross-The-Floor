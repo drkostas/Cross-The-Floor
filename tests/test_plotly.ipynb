{
 "cells": [
  {
   "cell_type": "code",
   "execution_count": 1,
   "metadata": {
    "collapsed": true,
    "pycharm": {
     "is_executing": false
    }
   },
   "outputs": [],
   "source": [
    "#!/usr/bin/env python\n",
    "import logging\n",
    "from logging.handlers import TimedRotatingFileHandler\n",
    "from logging import StreamHandler\n",
    "import argparse\n",
    "import traceback\n",
    "from typing import *\n",
    "\n",
    "from configuration.configuration import Configuration\n",
    "from crawler.crawler import AbstractCrawler\n",
    "from visualizer.visualizer import AbstractVisualizer\n",
    "from crawler.parliament_members_crawler import ParliamentMembersCrawler\n",
    "from visualizer.plotly_visualizer import PlotlyVisualizer\n",
    "from pandas_manager.pandas_manager import PandasManager\n",
    "\n",
    "logger = logging.getLogger('MAIN')\n",
    "\n",
    "\n",
    "def __setup_log__(log_path: str, debug=False) -> None:\n",
    "    from os import sep\n",
    "    if log_path is None:\n",
    "        raise Exception('No log path was provided!')\n",
    "\n",
    "    log_path = log_path.split(sep)\n",
    "    if len(log_path) > 1:\n",
    "        from os import makedirs\n",
    "        try:\n",
    "            makedirs((sep.join(log_path[:-1])))\n",
    "        except FileExistsError:\n",
    "            pass\n",
    "    log_filename = sep.join(log_path)\n",
    "    time_rotating_handler = TimedRotatingFileHandler(log_filename, when='midnight', interval=1)\n",
    "    stream_handler = StreamHandler()\n",
    "    logging.basicConfig(level=logging.INFO if debug is not True else logging.DEBUG,\n",
    "                        format='%(asctime)s %(name)-12s %(levelname)-8s %(message)s',\n",
    "                        datefmt='%Y-%m-%d %H:%M:%S'\n",
    "                        )\n",
    "    logger.addHandler(time_rotating_handler)\n",
    "    logger.addHandler(stream_handler)\n",
    "\n",
    "\n",
    "def __setup_classes__(config_file: str) -> Tuple[AbstractCrawler, AbstractVisualizer, str]:\n",
    "    config = Configuration(config_file)\n",
    "    if config.get_source_type() == 'ParliamentMembersCrawler':\n",
    "        crawler = ParliamentMembersCrawler(config=config.get_source())\n",
    "    else:\n",
    "        raise Exception('Unknown source type!')\n",
    "    if config.get_target_type() == 'plotly':\n",
    "        visualizer = PlotlyVisualizer(config=config.get_target())\n",
    "    else:\n",
    "        raise Exception('Unknown source type!')\n",
    "\n",
    "    return crawler, visualizer, config.get_plot_name()\n"
   ]
  },
  {
   "cell_type": "code",
   "execution_count": 2,
   "outputs": [
    {
     "name": "stderr",
     "text": [
      "/home/drkostas/Workspaces/sankey-diagram-for-political-parties/src/configuration/configuration.py:23: YAMLLoadWarning:\n",
      "\n",
      "calling yaml.load() without Loader=... is deprecated, as the default Loader is unsafe. Please read https://msg.pyyaml.org/load for full details.\n",
      "\n",
      "/home/drkostas/Workspaces/sankey-diagram-for-political-parties/venv/lib/python3.6/site-packages/pandas/core/indexing.py:576: SettingWithCopyWarning:\n",
      "\n",
      "\n",
      "A value is trying to be set on a copy of a slice from a DataFrame.\n",
      "Try using .loc[row_indexer,col_indexer] = value instead\n",
      "\n",
      "See the caveats in the documentation: http://pandas.pydata.org/pandas-docs/stable/user_guide/indexing.html#returning-a-view-versus-a-copy\n",
      "\n",
      "/home/drkostas/Workspaces/sankey-diagram-for-political-parties/venv/lib/python3.6/site-packages/pandas/core/frame.py:3509: SettingWithCopyWarning:\n",
      "\n",
      "\n",
      "A value is trying to be set on a copy of a slice from a DataFrame.\n",
      "Try using .loc[row_indexer,col_indexer] = value instead\n",
      "\n",
      "See the caveats in the documentation: http://pandas.pydata.org/pandas-docs/stable/user_guide/indexing.html#returning-a-view-versus-a-copy\n",
      "\n"
     ],
     "output_type": "stream"
    },
    {
     "name": "stdout",
     "text": [
      "       Full Name Kommata 2007               Kommata 2015               Kommata 2019\n",
      "202  Al papariga          Kke  Communist party of greece  Communist party of greece\n",
      "                               Node  Count\n",
      "0                New democracy_2007    153\n",
      "1                        Pasok_2007    102\n",
      "2                         Laos_2007     10\n",
      "3                       Syriza_2007     14\n",
      "4                          Kke_2007     22\n",
      "5                New democracy_2015     77\n",
      "6   Pasok-democratic alignment_2015     13\n",
      "7                       Syriza_2015    149\n",
      "8           Independent greeks_2015     13\n",
      "9    Communist party of greece_2015     15\n",
      "10                   The river_2015     17\n",
      "11                 Golden dawn_2015     17\n",
      "12               New democracy_2019    158\n",
      "13                      Syriza_2019     86\n",
      "14   Communist party of greece_2019     15\n",
      "15         Movement for change_2019     22\n",
      "16                      Mera25_2019      9\n",
      "17              Greek solution_2019     10\n",
      "                             Source                           Target  Count\n",
      "0    Communist party of greece_2015   Communist party of greece_2015     11\n",
      "1    Communist party of greece_2015   Communist party of greece_2019      4\n",
      "2    Communist party of greece_2019   Communist party of greece_2019     11\n",
      "3                  Golden dawn_2015                 Golden dawn_2015     17\n",
      "4               Greek solution_2019              Greek solution_2019     10\n",
      "5           Independent greeks_2015          Independent greeks_2015     11\n",
      "6           Independent greeks_2015                      Syriza_2019      2\n",
      "7                          Kke_2007   Communist party of greece_2015      2\n",
      "8                          Kke_2007   Communist party of greece_2019      2\n",
      "9                          Kke_2007                         Kke_2007     18\n",
      "10                        Laos_2007              Greek solution_2019      1\n",
      "11                        Laos_2007                        Laos_2007      6\n",
      "12                        Laos_2007               New democracy_2015      2\n",
      "13                        Laos_2007               New democracy_2019      1\n",
      "14                      Mera25_2019                      Mera25_2019      8\n",
      "15         Movement for change_2019         Movement for change_2019     17\n",
      "16               New democracy_2007          Independent greeks_2015      2\n",
      "17               New democracy_2007               New democracy_2007    110\n",
      "18               New democracy_2007               New democracy_2015     26\n",
      "19               New democracy_2007               New democracy_2019     15\n",
      "20               New democracy_2015               New democracy_2015     38\n",
      "21               New democracy_2015               New democracy_2019     39\n",
      "22               New democracy_2019               New democracy_2019    117\n",
      "23               New democracy_2019                      Syriza_2019      1\n",
      "24  Pasok-democratic alignment_2015         Movement for change_2019      5\n",
      "25  Pasok-democratic alignment_2015  Pasok-democratic alignment_2015      8\n",
      "26                       Pasok_2007                      Mera25_2019      1\n",
      "27                       Pasok_2007         Movement for change_2019      3\n",
      "28                       Pasok_2007  Pasok-democratic alignment_2015      7\n",
      "29                       Pasok_2007                       Pasok_2007     87\n",
      "30                       Pasok_2007                      Syriza_2015      1\n",
      "31                       Pasok_2007                      Syriza_2019      3\n",
      "32                      Syriza_2007                      Syriza_2007     11\n",
      "33                      Syriza_2007                      Syriza_2015      2\n",
      "34                      Syriza_2007                   The river_2015      1\n",
      "35                      Syriza_2015                      Mera25_2019      1\n",
      "36                      Syriza_2015               New democracy_2019      1\n",
      "37                      Syriza_2015                      Syriza_2015    120\n",
      "38                      Syriza_2015                      Syriza_2019     27\n",
      "39                      Syriza_2019                      Syriza_2019     56\n",
      "40                   The river_2015               New democracy_2019      1\n",
      "41                   The river_2015                   The river_2015     16\n"
     ],
     "output_type": "stream"
    }
   ],
   "source": [
    "# Setup\n",
    "config_file = '../confs/greek_members.yml'\n",
    "log_file = '../logs/greek_members.log'\n",
    "debug = True\n",
    "\n",
    "log_fn = log_file\n",
    "__setup_log__(log_fn, debug)\n",
    "crawler, visualizer, plot_name = __setup_classes__(config_file)\n",
    "# Crawl wikipedia and retrieve the requested tables\n",
    "df_generator = crawler.get_tables()\n",
    "# Merge the retrieved tables and a create nodes, edges DataFrames\n",
    "pandas_manager = PandasManager(df_generator=df_generator)\n",
    "merged_df, plot_cols, name_col = pandas_manager.df_from_generator()\n",
    "nodes_df = pandas_manager.create_nodes_df(merged_df, plot_cols)\n",
    "edges_df = pandas_manager.create_edges_df(merged_df, plot_cols, name_col)\n",
    "print(nodes_df)\n",
    "print(edges_df)"
   ],
   "metadata": {
    "collapsed": false,
    "pycharm": {
     "name": "#%%\n",
     "is_executing": false
    }
   }
  },
  {
   "cell_type": "code",
   "execution_count": 3,
   "outputs": [],
   "source": [
    "import plotly\n",
    "import seaborn as sns\n"
   ],
   "metadata": {
    "collapsed": false,
    "pycharm": {
     "name": "#%%\n",
     "is_executing": false
    }
   }
  },
  {
   "cell_type": "code",
   "execution_count": 4,
   "outputs": [
    {
     "name": "stdout",
     "text": [
      "{'2007': [0, 1, 2, 3, 4], '2015': [5, 6, 7, 8, 9, 10, 11], '2019': [12, 13, 14, 15, 16, 17]}\n",
      "18 ['New democracy_2007', 'Pasok_2007', 'Laos_2007', 'Syriza_2007', 'Kke_2007', 'New democracy_2015', 'Pasok-democratic alignment_2015', 'Syriza_2015', 'Independent greeks_2015', 'Communist party of greece_2015', 'The river_2015', 'Golden dawn_2015', 'New democracy_2019', 'Syriza_2019', 'Communist party of greece_2019', 'Movement for change_2019', 'Mera25_2019', 'Greek solution_2019']\n",
      "18 ['#1f77b4', '#1f77b4', '#1f77b4', '#1f77b4', '#1f77b4', '#ff7f0e', '#ff7f0e', '#ff7f0e', '#ff7f0e', '#ff7f0e', '#ff7f0e', '#ff7f0e', '#2ca02c', '#2ca02c', '#2ca02c', '#2ca02c', '#2ca02c', '#2ca02c']\n",
      "18 [0.0, 0.0, 0.0, 0.0, 0.0, 0.333, 0.333, 0.333, 0.333, 0.333, 0.333, 0.333, 0.667, 0.667, 0.667, 0.667, 0.667, 0.667]\n",
      "18 [0.2, 0.4, 1.0, 0.8, 0.6, 0.286, 1.0, 0.143, 0.857, 0.714, 0.571, 0.429, 0.167, 0.333, 0.667, 0.5, 1.0, 0.833]\n"
     ],
     "output_type": "stream"
    }
   ],
   "source": [
    "# add index for source-target pair\n",
    "nodes_list = nodes_df['Node'].tolist()\n",
    "nodes_count_list = nodes_df['Count'].tolist()\n",
    "node_types = {node.split('_')[-1]: [] for node in nodes_list}\n",
    "color_palette = list(sns.color_palette(None, len(node_types.keys())).as_hex())\n",
    "for ind, node in enumerate(nodes_list):\n",
    "    node_types[node.split('_')[-1]].append(ind)\n",
    "print(node_types)\n",
    "x_positions = [0 for _ in range(len(nodes_list))]\n",
    "y_positions = [0 for _ in range(len(nodes_list))]\n",
    "node_color_list = [0 for _ in range(len(nodes_list))]\n",
    "x_position = 0.0\n",
    "for ind_1, key in enumerate(sorted(node_types.keys())):\n",
    "    y_position = 1.0\n",
    "    for ind_2, node in sorted(enumerate(node_types[key]), key=lambda row: nodes_count_list[row[1]], reverse=False):\n",
    "        node_color_list[node] = color_palette[ind_1]\n",
    "        x_positions[node] = round(x_position, 3)\n",
    "        y_positions[node] = round(y_position, 3)\n",
    "        y_position -= 1.0/len(node_types[key])\n",
    "    x_position += 1.0/len(node_types.keys())\n",
    "print(len(nodes_list), nodes_list)\n",
    "print(len(node_color_list), node_color_list)\n",
    "print(len(x_positions), x_positions)\n",
    "print(len(y_positions), y_positions)"
   ],
   "metadata": {
    "collapsed": false,
    "pycharm": {
     "name": "#%%\n",
     "is_executing": false
    }
   }
  },
  {
   "cell_type": "code",
   "execution_count": 5,
   "outputs": [
    {
     "name": "stdout",
     "text": [
      "{'2007': '#1f77b4', '2015': '#ff7f0e', '2019': '#2ca02c'}\n"
     ],
     "output_type": "stream"
    }
   ],
   "source": [
    "edges_df['SourceID'] = edges_df['Source'].apply(lambda x: nodes_list.index(x))\n",
    "edges_df['TargetID'] = edges_df['Target'].apply(lambda x: nodes_list.index(x))\n",
    "# print(edges_df)\n",
    "edge_years = set([node.split('_')[-1] for node in nodes_list])\n",
    "edge_types = dict(zip(sorted(edge_years), color_palette))\n",
    "print(edge_types)\n",
    "source_from_edges_list = edges_df['Source'].to_list()\n",
    "edge_color_list = [edge_types[node.split('_')[-1]] for node in source_from_edges_list]\n"
   ],
   "metadata": {
    "collapsed": false,
    "pycharm": {
     "name": "#%%\n",
     "is_executing": false
    }
   }
  },
  {
   "cell_type": "code",
   "execution_count": 6,
   "outputs": [
    {
     "name": "stderr",
     "text": [
      "2019-12-25 22:03:39 urllib3.connectionpool DEBUG    Starting new HTTPS connection (1): api.plot.ly:443\n",
      "2019-12-25 22:03:42 urllib3.connectionpool DEBUG    https://api.plot.ly:443 \"GET /v2/users/current HTTP/1.1\" 200 None\n",
      "/home/drkostas/Workspaces/sankey-diagram-for-political-parties/venv/lib/python3.6/site-packages/plotly/offline/offline.py:562: UserWarning:\n",
      "\n",
      "Your filename `sankey` didn't end with .html. Adding .html to the end of your file.\n",
      "\n"
     ],
     "output_type": "stream"
    },
    {
     "data": {
      "text/plain": "'sankey.html'"
     },
     "metadata": {},
     "output_type": "execute_result",
     "execution_count": 6
    }
   ],
   "source": [
    "# creating the sankey diagram\n",
    "data = dict(\n",
    "    type='sankey',\n",
    "    node=dict(\n",
    "        hoverinfo=\"all\",\n",
    "        pad=15,\n",
    "        thickness=20,\n",
    "        line=dict(\n",
    "            color=\"black\",\n",
    "            width=0.5\n",
    "        ),\n",
    "        label=nodes_list,\n",
    "        color=node_color_list,\n",
    "        x=x_positions,\n",
    "        y=y_positions,\n",
    "        # groups=list(node_types.values())\n",
    "    ),\n",
    "    link=dict(\n",
    "        source=edges_df['SourceID'],\n",
    "        target=edges_df['TargetID'],\n",
    "        value=edges_df['Count'],\n",
    "        label=edges_df['Count'],\n",
    "        color = edge_color_list\n",
    "    ),\n",
    "    arrangement='freeform'\n",
    ")\n",
    "\n",
    "layout = dict(\n",
    "    title='Test Sankey',\n",
    "    font=dict(\n",
    "        size=10\n",
    "    )\n",
    ")\n",
    "\n",
    "fig = dict(data=[data], layout=layout)\n",
    "\n",
    "filename = \"sankey\"\n",
    "\n",
    "import chart_studio.plotly as py\n",
    "py.sign_in('drkostas', 'nMT8XHbUvMWFXOR9LZ7s')\n",
    "# py.iplot([data], filename=filename)\n",
    "plotly.offline.plot(fig, validate=True, filename=filename)"
   ],
   "metadata": {
    "collapsed": false,
    "pycharm": {
     "name": "#%%\n",
     "is_executing": false
    }
   }
  }
 ],
 "metadata": {
  "kernelspec": {
   "display_name": "Python 3",
   "language": "python",
   "name": "python3"
  },
  "language_info": {
   "codemirror_mode": {
    "name": "ipython",
    "version": 2
   },
   "file_extension": ".py",
   "mimetype": "text/x-python",
   "name": "python",
   "nbconvert_exporter": "python",
   "pygments_lexer": "ipython2",
   "version": "2.7.6"
  },
  "pycharm": {
   "stem_cell": {
    "cell_type": "raw",
    "source": [],
    "metadata": {
     "collapsed": false
    }
   }
  }
 },
 "nbformat": 4,
 "nbformat_minor": 0
}